{
  "cells": [
    {
      "cell_type": "code",
      "execution_count": null,
      "metadata": {
        "colab": {
          "base_uri": "https://localhost:8080/"
        },
        "id": "q5PPNTjS_ezE",
        "outputId": "f4c56e86-239c-4484-868c-e8afe0b026c3"
      },
      "outputs": [
        {
          "name": "stdout",
          "output_type": "stream",
          "text": [
            "Num GPUs Available: 1\n",
            "Using GPU\n"
          ]
        }
      ],
      "source": [
        "import tensorflow as tf\n",
        "\n",
        "# Ensure TensorFlow detects GPU\n",
        "print(\"Num GPUs Available:\", len(tf.config.list_physical_devices('GPU')))\n",
        "\n",
        "# Set GPU as default device\n",
        "if tf.config.list_physical_devices('GPU'):\n",
        "    tf.config.experimental.set_memory_growth(tf.config.list_physical_devices('GPU')[0], True)\n",
        "    tf.device('/GPU:0')\n",
        "    print(\"Using GPU\")\n",
        "else:\n",
        "    print(\"No GPU detected\")\n"
      ]
    },
    {
      "cell_type": "code",
      "execution_count": null,
      "metadata": {
        "id": "Eqshwf9A_m0V"
      },
      "outputs": [],
      "source": [
        "tf.debugging.set_log_device_placement(True)\n"
      ]
    },
    {
      "cell_type": "code",
      "execution_count": 5,
      "metadata": {
        "id": "dsi4W9NywVpR"
      },
      "outputs": [],
      "source": [
        "import numpy as np\n",
        "import pandas as pd\n",
        "\n",
        "tf.config.experimental.set_memory_growth(tf.config.experimental.list_physical_devices('GPU')[0], True)\n",
        "from tensorflow import keras\n",
        "from sklearn.model_selection import train_test_split\n",
        "from sklearn.preprocessing import StandardScaler\n",
        "from sklearn.metrics import confusion_matrix, classification_report\n",
        "\n",
        "# Instead of SMOTE or ADASYN, let's try a different oversampling method (e.g., SVM-SMOTE):\n",
        "from imblearn.over_sampling import SVMSMOTE\n",
        "\n",
        "# Load the dataset\n",
        "df = pd.read_csv(\"/content/train_hsbc_df.csv\")\n",
        "\n",
        "# Define feature matrix X and target variable y\n",
        "X = df.drop(columns=[\"fraud\"])\n",
        "y = df[\"fraud\"]\n",
        "\n",
        "# Convert 'age' column to numeric\n",
        "X[\"age\"] = pd.to_numeric(X[\"age\"], errors='coerce')\n",
        "\n",
        "# Convert 'gender' column to numeric (M -> 0, F -> 1)\n",
        "X[\"gender\"] = X[\"gender\"].map({'M': 0, 'F': 1})\n",
        "\n",
        "# Fill NaN values with 0\n",
        "X = X.fillna(0)\n",
        "\n",
        "# Select only numeric columns for scaling\n",
        "numeric_cols = X.select_dtypes(include=['number']).columns\n",
        "scaler = StandardScaler()\n",
        "X_scaled = scaler.fit_transform(X[numeric_cols])\n",
        "X_scaled = pd.DataFrame(X_scaled, columns=numeric_cols)\n"
      ]
    },
    {
      "cell_type": "code",
      "execution_count": 6,
      "metadata": {
        "id": "TTvrjRl4wsTA"
      },
      "outputs": [],
      "source": [
        "X_train, X_test, y_train, y_test = train_test_split(\n",
        "    X_scaled, y, test_size=0.2, random_state=42, stratify=y\n",
        ")"
      ]
    },
    {
      "cell_type": "code",
      "execution_count": 7,
      "metadata": {
        "id": "dhLGXnnZwxQz"
      },
      "outputs": [],
      "source": [
        "!pip install -q cupy-cuda12x cuml-cu12 --extra-index-url=https://pypi.nvidia.com\n"
      ]
    },
    {
      "cell_type": "code",
      "source": [
        "!pip install -q cupy-cuda12x cudf-cu12 --extra-index-url=https://pypi.nvidia.com\n"
      ],
      "metadata": {
        "id": "ztyblxsgBP0K"
      },
      "execution_count": 9,
      "outputs": []
    },
    {
      "cell_type": "code",
      "execution_count": 10,
      "metadata": {
        "id": "q_WmTundwz1b"
      },
      "outputs": [],
      "source": [
        "import cupy as cp\n",
        "import cudf\n",
        "from imblearn.over_sampling import SMOTE\n",
        "\n",
        "# Convert data to GPU-accelerated cuDF DataFrame\n",
        "X_train_gpu = cudf.DataFrame(X_train)\n",
        "y_train_gpu = cudf.Series(y_train)\n",
        "\n",
        "# Apply SMOTE (CPU-based, but optimized with cuDF)\n",
        "smote = SMOTE(random_state=42)\n",
        "X_train_resampled, y_train_resampled = smote.fit_resample(X_train_gpu.to_pandas(), y_train_gpu.to_pandas())\n",
        "\n",
        "# Convert back to GPU for faster TensorFlow training\n",
        "X_train_resampled_gpu = cp.array(X_train_resampled.values)\n",
        "y_train_resampled_gpu = cp.array(y_train_resampled.values)\n"
      ]
    },
    {
      "cell_type": "code",
      "source": [
        "# Build Neural Network model\n",
        "model = keras.Sequential([\n",
        "    keras.layers.Dense(64, activation='relu', input_shape=(X_train.shape[1],)),\n",
        "    keras.layers.Dense(32, activation='relu'),\n",
        "    keras.layers.Dense(1, activation='sigmoid')\n",
        "])\n"
      ],
      "metadata": {
        "colab": {
          "base_uri": "https://localhost:8080/"
        },
        "id": "iqwNPxFUBA8g",
        "outputId": "5e8c29a3-2617-43eb-d101-9186cf0dffdb"
      },
      "execution_count": 11,
      "outputs": [
        {
          "output_type": "stream",
          "name": "stderr",
          "text": [
            "/usr/local/lib/python3.11/dist-packages/keras/src/layers/core/dense.py:87: UserWarning: Do not pass an `input_shape`/`input_dim` argument to a layer. When using Sequential models, prefer using an `Input(shape)` object as the first layer in the model instead.\n",
            "  super().__init__(activity_regularizer=activity_regularizer, **kwargs)\n"
          ]
        }
      ]
    },
    {
      "cell_type": "code",
      "source": [
        "model.compile(optimizer='adam', loss='binary_crossentropy', metrics=['accuracy'])\n",
        "\n",
        "# Train the model\n",
        "model.fit(X_train_resampled, y_train_resampled,\n",
        "          epochs=20, batch_size=32,\n",
        "          validation_data=(X_test, y_test))"
      ],
      "metadata": {
        "colab": {
          "base_uri": "https://localhost:8080/"
        },
        "id": "IvO_Qnj7BdLr",
        "outputId": "0d7de5db-9ddb-49ab-cf60-8588820e471e"
      },
      "execution_count": 12,
      "outputs": [
        {
          "output_type": "stream",
          "name": "stdout",
          "text": [
            "Epoch 1/20\n",
            "\u001b[1m25373/25373\u001b[0m \u001b[32m━━━━━━━━━━━━━━━━━━━━\u001b[0m\u001b[37m\u001b[0m \u001b[1m78s\u001b[0m 3ms/step - accuracy: 0.9132 - loss: 0.2493 - val_accuracy: 0.9592 - val_loss: 0.1922\n",
            "Epoch 2/20\n",
            "\u001b[1m25373/25373\u001b[0m \u001b[32m━━━━━━━━━━━━━━━━━━━━\u001b[0m\u001b[37m\u001b[0m \u001b[1m73s\u001b[0m 3ms/step - accuracy: 0.9142 - loss: 0.2434 - val_accuracy: 0.9496 - val_loss: 0.1960\n",
            "Epoch 3/20\n",
            "\u001b[1m25373/25373\u001b[0m \u001b[32m━━━━━━━━━━━━━━━━━━━━\u001b[0m\u001b[37m\u001b[0m \u001b[1m83s\u001b[0m 3ms/step - accuracy: 0.9148 - loss: 0.2421 - val_accuracy: 0.9564 - val_loss: 0.1948\n",
            "Epoch 4/20\n",
            "\u001b[1m25373/25373\u001b[0m \u001b[32m━━━━━━━━━━━━━━━━━━━━\u001b[0m\u001b[37m\u001b[0m \u001b[1m69s\u001b[0m 3ms/step - accuracy: 0.9145 - loss: 0.2421 - val_accuracy: 0.9553 - val_loss: 0.1977\n",
            "Epoch 5/20\n",
            "\u001b[1m25373/25373\u001b[0m \u001b[32m━━━━━━━━━━━━━━━━━━━━\u001b[0m\u001b[37m\u001b[0m \u001b[1m68s\u001b[0m 3ms/step - accuracy: 0.9150 - loss: 0.2408 - val_accuracy: 0.9575 - val_loss: 0.1898\n",
            "Epoch 6/20\n",
            "\u001b[1m25373/25373\u001b[0m \u001b[32m━━━━━━━━━━━━━━━━━━━━\u001b[0m\u001b[37m\u001b[0m \u001b[1m82s\u001b[0m 3ms/step - accuracy: 0.9142 - loss: 0.2417 - val_accuracy: 0.9558 - val_loss: 0.1808\n",
            "Epoch 7/20\n",
            "\u001b[1m25373/25373\u001b[0m \u001b[32m━━━━━━━━━━━━━━━━━━━━\u001b[0m\u001b[37m\u001b[0m \u001b[1m78s\u001b[0m 3ms/step - accuracy: 0.9145 - loss: 0.2409 - val_accuracy: 0.9540 - val_loss: 0.1946\n",
            "Epoch 8/20\n",
            "\u001b[1m25373/25373\u001b[0m \u001b[32m━━━━━━━━━━━━━━━━━━━━\u001b[0m\u001b[37m\u001b[0m \u001b[1m68s\u001b[0m 3ms/step - accuracy: 0.9150 - loss: 0.2404 - val_accuracy: 0.9559 - val_loss: 0.1809\n",
            "Epoch 9/20\n",
            "\u001b[1m25373/25373\u001b[0m \u001b[32m━━━━━━━━━━━━━━━━━━━━\u001b[0m\u001b[37m\u001b[0m \u001b[1m68s\u001b[0m 3ms/step - accuracy: 0.9147 - loss: 0.2402 - val_accuracy: 0.9551 - val_loss: 0.1928\n",
            "Epoch 10/20\n",
            "\u001b[1m25373/25373\u001b[0m \u001b[32m━━━━━━━━━━━━━━━━━━━━\u001b[0m\u001b[37m\u001b[0m \u001b[1m68s\u001b[0m 3ms/step - accuracy: 0.9149 - loss: 0.2395 - val_accuracy: 0.9546 - val_loss: 0.1940\n",
            "Epoch 11/20\n",
            "\u001b[1m25373/25373\u001b[0m \u001b[32m━━━━━━━━━━━━━━━━━━━━\u001b[0m\u001b[37m\u001b[0m \u001b[1m68s\u001b[0m 3ms/step - accuracy: 0.9149 - loss: 0.2392 - val_accuracy: 0.9501 - val_loss: 0.2104\n",
            "Epoch 12/20\n",
            "\u001b[1m25373/25373\u001b[0m \u001b[32m━━━━━━━━━━━━━━━━━━━━\u001b[0m\u001b[37m\u001b[0m \u001b[1m64s\u001b[0m 3ms/step - accuracy: 0.9143 - loss: 0.2403 - val_accuracy: 0.9568 - val_loss: 0.1928\n",
            "Epoch 13/20\n",
            "\u001b[1m25373/25373\u001b[0m \u001b[32m━━━━━━━━━━━━━━━━━━━━\u001b[0m\u001b[37m\u001b[0m \u001b[1m86s\u001b[0m 3ms/step - accuracy: 0.9142 - loss: 0.2400 - val_accuracy: 0.9549 - val_loss: 0.1908\n",
            "Epoch 14/20\n",
            "\u001b[1m25373/25373\u001b[0m \u001b[32m━━━━━━━━━━━━━━━━━━━━\u001b[0m\u001b[37m\u001b[0m \u001b[1m68s\u001b[0m 3ms/step - accuracy: 0.9150 - loss: 0.2389 - val_accuracy: 0.9523 - val_loss: 0.2045\n",
            "Epoch 15/20\n",
            "\u001b[1m25373/25373\u001b[0m \u001b[32m━━━━━━━━━━━━━━━━━━━━\u001b[0m\u001b[37m\u001b[0m \u001b[1m78s\u001b[0m 3ms/step - accuracy: 0.9143 - loss: 0.2395 - val_accuracy: 0.9520 - val_loss: 0.2013\n",
            "Epoch 16/20\n",
            "\u001b[1m25373/25373\u001b[0m \u001b[32m━━━━━━━━━━━━━━━━━━━━\u001b[0m\u001b[37m\u001b[0m \u001b[1m68s\u001b[0m 3ms/step - accuracy: 0.9155 - loss: 0.2370 - val_accuracy: 0.9543 - val_loss: 0.1947\n",
            "Epoch 17/20\n",
            "\u001b[1m25373/25373\u001b[0m \u001b[32m━━━━━━━━━━━━━━━━━━━━\u001b[0m\u001b[37m\u001b[0m \u001b[1m69s\u001b[0m 3ms/step - accuracy: 0.9154 - loss: 0.2375 - val_accuracy: 0.9504 - val_loss: 0.2063\n",
            "Epoch 18/20\n",
            "\u001b[1m25373/25373\u001b[0m \u001b[32m━━━━━━━━━━━━━━━━━━━━\u001b[0m\u001b[37m\u001b[0m \u001b[1m64s\u001b[0m 3ms/step - accuracy: 0.9149 - loss: 0.2379 - val_accuracy: 0.9600 - val_loss: 0.1878\n",
            "Epoch 19/20\n",
            "\u001b[1m25373/25373\u001b[0m \u001b[32m━━━━━━━━━━━━━━━━━━━━\u001b[0m\u001b[37m\u001b[0m \u001b[1m87s\u001b[0m 3ms/step - accuracy: 0.9152 - loss: 0.2373 - val_accuracy: 0.9559 - val_loss: 0.1916\n",
            "Epoch 20/20\n",
            "\u001b[1m25373/25373\u001b[0m \u001b[32m━━━━━━━━━━━━━━━━━━━━\u001b[0m\u001b[37m\u001b[0m \u001b[1m68s\u001b[0m 3ms/step - accuracy: 0.9148 - loss: 0.2382 - val_accuracy: 0.9580 - val_loss: 0.1838\n"
          ]
        },
        {
          "output_type": "execute_result",
          "data": {
            "text/plain": [
              "<keras.src.callbacks.history.History at 0x7e2855f1ce50>"
            ]
          },
          "metadata": {},
          "execution_count": 12
        }
      ]
    },
    {
      "cell_type": "code",
      "source": [
        "y_pred = (model.predict(X_test) > 0.5).astype(\"int32\")\n"
      ],
      "metadata": {
        "colab": {
          "base_uri": "https://localhost:8080/"
        },
        "id": "_iN6McjaBgX-",
        "outputId": "022fd00a-0a47-4dc5-d337-eee36fa4f804"
      },
      "execution_count": 13,
      "outputs": [
        {
          "output_type": "stream",
          "name": "stdout",
          "text": [
            "\u001b[1m3211/3211\u001b[0m \u001b[32m━━━━━━━━━━━━━━━━━━━━\u001b[0m\u001b[37m\u001b[0m \u001b[1m8s\u001b[0m 2ms/step\n"
          ]
        }
      ]
    },
    {
      "cell_type": "code",
      "source": [
        "conf_matrix = confusion_matrix(y_test, y_pred)\n",
        "report = classification_report(y_test, y_pred)"
      ],
      "metadata": {
        "id": "a_Dzn7OxHKwC"
      },
      "execution_count": 14,
      "outputs": []
    },
    {
      "cell_type": "code",
      "source": [
        "import matplotlib.pyplot as plt\n",
        "import seaborn as sns"
      ],
      "metadata": {
        "id": "xEC2TyfdHhM8"
      },
      "execution_count": 16,
      "outputs": []
    },
    {
      "cell_type": "code",
      "source": [
        "plt.figure(figsize=(6, 5))\n",
        "sns.heatmap(conf_matrix, annot=True, fmt='d', cmap='Blues', xticklabels=[\"Not Fraud\", \"Fraud\"], yticklabels=[\"Not Fraud\", \"Fraud\"])\n",
        "plt.xlabel(\"Predicted\")\n",
        "plt.ylabel(\"Actual\")\n",
        "plt.title(\"Confusion Matrix Heatmap\")\n",
        "plt.show()"
      ],
      "metadata": {
        "colab": {
          "base_uri": "https://localhost:8080/",
          "height": 487
        },
        "id": "h4XoGl-xHRiv",
        "outputId": "78476dbb-326c-41ac-a91b-5350994f2259"
      },
      "execution_count": 17,
      "outputs": [
        {
          "output_type": "display_data",
          "data": {
            "text/plain": [
              "<Figure size 600x500 with 2 Axes>"
            ],
            "image/png": "[encoded data removed]"
          },
          "metadata": {}
        }
      ]
    },
    {
      "cell_type": "code",
      "source": [
        "print(\"Classification Report:\\n\", report)\n"
      ],
      "metadata": {
        "colab": {
          "base_uri": "https://localhost:8080/"
        },
        "id": "CHrsvmoRHdk9",
        "outputId": "9b3cbddc-8ca8-46f7-e6a5-84fa2f43e788"
      },
      "execution_count": 18,
      "outputs": [
        {
          "output_type": "stream",
          "name": "stdout",
          "text": [
            "Classification Report:\n",
            "               precision    recall  f1-score   support\n",
            "\n",
            "           0       1.00      0.96      0.98    101489\n",
            "           1       0.21      0.88      0.34      1240\n",
            "\n",
            "    accuracy                           0.96    102729\n",
            "   macro avg       0.60      0.92      0.66    102729\n",
            "weighted avg       0.99      0.96      0.97    102729\n",
            "\n"
          ]
        }
      ]
    }
  ],
  "metadata": {
    "accelerator": "GPU",
    "colab": {
      "gpuType": "T4",
      "provenance": []
    },
    "kernelspec": {
      "display_name": "Python 3",
      "name": "python3"
    },
    "language_info": {
      "name": "python"
    }
  },
  "nbformat": 4,
  "nbformat_minor": 0
}